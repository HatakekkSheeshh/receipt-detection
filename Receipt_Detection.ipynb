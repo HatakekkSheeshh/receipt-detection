{
  "nbformat": 4,
  "nbformat_minor": 0,
  "metadata": {
    "colab": {
      "provenance": [],
      "collapsed_sections": [
        "PaHOdZmc5S8C",
        "6TOIrfv15Zga"
      ]
    },
    "kernelspec": {
      "name": "python3",
      "display_name": "Python 3"
    },
    "language_info": {
      "name": "python"
    }
  },
  "cells": [
    {
      "cell_type": "markdown",
      "source": [
        "# RECEIPT DETECTION"
      ],
      "metadata": {
        "id": "ZM0M52OM5yne"
      }
    },
    {
      "cell_type": "markdown",
      "source": [
        "Bài toán xác định liệu trong ảnh có hóa đơn hay không\n",
        "Chưa thêm vào tính năng vẽ bounding box"
      ],
      "metadata": {
        "id": "pdgo_dki9w1q"
      }
    },
    {
      "cell_type": "markdown",
      "source": [
        "# Dependecies and Libraries"
      ],
      "metadata": {
        "id": "bxmfnv-b5KGc"
      }
    },
    {
      "cell_type": "code",
      "source": [
        "!pip install visualkeras\n",
        "import visualkeras\n",
        "\n",
        "import cv2\n",
        "import tensorflow as tf\n",
        "from PIL import Image\n",
        "from tensorflow.keras.preprocessing import image\n",
        "from tensorflow.keras.preprocessing.image import ImageDataGenerator, img_to_array, array_to_img, load_img\n",
        "from tensorflow.keras.utils import to_categorical\n",
        "from tensorflow.keras import *\n",
        "from tensorflow.keras.layers import *\n",
        "from tensorflow.keras.models import *\n",
        "from tensorflow.keras.optimizers import *"
      ],
      "metadata": {
        "id": "dx7Ppe53pkvv",
        "colab": {
          "base_uri": "https://localhost:8080/"
        },
        "outputId": "87ba5e65-644d-455c-89c5-32e422249751"
      },
      "execution_count": 2,
      "outputs": [
        {
          "output_type": "stream",
          "name": "stdout",
          "text": [
            "Requirement already satisfied: visualkeras in /usr/local/lib/python3.11/dist-packages (0.1.4)\n",
            "Requirement already satisfied: pillow>=6.2.0 in /usr/local/lib/python3.11/dist-packages (from visualkeras) (11.2.1)\n",
            "Requirement already satisfied: numpy>=1.18.1 in /usr/local/lib/python3.11/dist-packages (from visualkeras) (2.0.2)\n",
            "Requirement already satisfied: aggdraw>=1.3.11 in /usr/local/lib/python3.11/dist-packages (from visualkeras) (1.3.19)\n"
          ]
        }
      ]
    },
    {
      "cell_type": "markdown",
      "source": [
        "# Data Preprocessing"
      ],
      "metadata": {
        "id": "PaHOdZmc5S8C"
      }
    },
    {
      "cell_type": "code",
      "source": [],
      "metadata": {
        "id": "OddKdZPV5RMS"
      },
      "execution_count": 1,
      "outputs": []
    },
    {
      "cell_type": "markdown",
      "source": [
        "# Model Construction"
      ],
      "metadata": {
        "id": "6TOIrfv15Zga"
      }
    },
    {
      "cell_type": "markdown",
      "source": [
        "CNN Model"
      ],
      "metadata": {
        "id": "ig0P93nk9HcX"
      }
    },
    {
      "cell_type": "code",
      "source": [],
      "metadata": {
        "id": "V_OpLtX25lre"
      },
      "execution_count": 1,
      "outputs": []
    },
    {
      "cell_type": "markdown",
      "source": [
        "ResNet50 Model - reference model"
      ],
      "metadata": {
        "id": "2hqPrH9g9KXq"
      }
    },
    {
      "cell_type": "code",
      "source": [],
      "metadata": {
        "id": "57Gavwhu9Y57"
      },
      "execution_count": 1,
      "outputs": []
    },
    {
      "cell_type": "markdown",
      "source": [
        "# Training Model\n",
        "Looped with validation data & Learning rate adjustment\n"
      ],
      "metadata": {
        "id": "Ldux6Rzs5mGP"
      }
    },
    {
      "cell_type": "code",
      "source": [],
      "metadata": {
        "id": "jRIFyx8p5p2K"
      },
      "execution_count": 1,
      "outputs": []
    },
    {
      "cell_type": "markdown",
      "source": [
        "# Evaluation"
      ],
      "metadata": {
        "id": "32koCIV15qLz"
      }
    },
    {
      "cell_type": "code",
      "source": [],
      "metadata": {
        "id": "H2ZFkUOo5vAg"
      },
      "execution_count": 1,
      "outputs": []
    },
    {
      "cell_type": "markdown",
      "source": [
        "# RECEIPT LOCALIZATION"
      ],
      "metadata": {
        "id": "H00ZaQMr6AaY"
      }
    }
  ]
}